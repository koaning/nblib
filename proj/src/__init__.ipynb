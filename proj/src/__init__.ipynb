{
 "cells": [
  {
   "cell_type": "code",
   "execution_count": null,
   "metadata": {},
   "outputs": [],
   "source": [
    "## KEEP \n",
    "\n",
    "def demo(a: int, b:int) -> int:\n",
    "    \"\"\"Just add two numbers together. As a demo.\"\"\"\n",
    "    return a + b"
   ]
  }
 ],
 "metadata": {
  "language_info": {
   "name": "python"
  }
 },
 "nbformat": 4,
 "nbformat_minor": 2
}
